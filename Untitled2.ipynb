{
  "nbformat": 4,
  "nbformat_minor": 0,
  "metadata": {
    "colab": {
      "provenance": []
    },
    "kernelspec": {
      "name": "python3",
      "display_name": "Python 3"
    },
    "language_info": {
      "name": "python"
    }
  },
  "cells": [
    {
      "cell_type": "code",
      "execution_count": 7,
      "metadata": {
        "colab": {
          "base_uri": "https://localhost:8080/"
        },
        "id": "LEd8c2mtBaoY",
        "outputId": "93aae0aa-6c24-4194-9756-bfbef0fd7175"
      },
      "outputs": [
        {
          "output_type": "stream",
          "name": "stdout",
          "text": [
            "輸入範圍3\n",
            "1 * 1 = 1\n",
            "1 * 2 = 2\n",
            "1 * 3 = 3\n",
            "2 * 1 = 2\n",
            "2 * 2 = 4\n",
            "2 * 3 = 6\n",
            "3 * 1 = 3\n",
            "3 * 2 = 6\n",
            "3 * 3 = 9\n"
          ]
        }
      ],
      "source": [
        "number = int(input(\"輸入範圍\"))\n",
        "for i in range(1, number + 1):\n",
        "  for j in range(1, number + 1):\n",
        "    print(f\"{i} * {j} = {i * j}\")"
      ]
    },
    {
      "cell_type": "code",
      "source": [
        "import random\n",
        "target_number = random.randint(1,100)\n",
        "\n",
        "print(\"猜數字\")\n",
        "ans = 0\n",
        "while ans == 0:\n",
        "  guess = int(input(\"猜的數字:\"))\n",
        "  if guess > target_number:\n",
        "    print(\"再小\")\n",
        "  elif guess < target_number:\n",
        "    print(\"再大\")\n",
        "  else:\n",
        "    print(f\"Bingo，答案是{target_number}\")\n",
        "    ans = 1"
      ],
      "metadata": {
        "colab": {
          "base_uri": "https://localhost:8080/"
        },
        "id": "LAHmn5JaDtD6",
        "outputId": "6914fd32-e501-47da-caa1-e61ef6fe69a1"
      },
      "execution_count": 17,
      "outputs": [
        {
          "output_type": "stream",
          "name": "stdout",
          "text": [
            "猜數字\n",
            "猜的數字:50\n",
            "再小\n",
            "猜的數字:25\n",
            "再小\n",
            "猜的數字:12\n",
            "再大\n",
            "猜的數字:419\n",
            "再小\n",
            "猜的數字:19\n",
            "再小\n",
            "猜的數字:15\n",
            "再大\n",
            "猜的數字:17\n",
            "Bingo，答案是17\n"
          ]
        }
      ]
    }
  ]
}