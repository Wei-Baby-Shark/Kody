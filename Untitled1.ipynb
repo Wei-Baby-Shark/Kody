{
  "nbformat": 4,
  "nbformat_minor": 0,
  "metadata": {
    "colab": {
      "provenance": []
    },
    "kernelspec": {
      "name": "python3",
      "display_name": "Python 3"
    },
    "language_info": {
      "name": "python"
    }
  },
  "cells": [
    {
      "cell_type": "code",
      "execution_count": 4,
      "metadata": {
        "colab": {
          "base_uri": "https://localhost:8080/"
        },
        "id": "XJkPAUS5-aal",
        "outputId": "0d4a884c-b448-4de0-b294-a9eac39ec8a6"
      },
      "outputs": [
        {
          "output_type": "stream",
          "name": "stdout",
          "text": [
            "Name: 黎廷緯, Number:B1205010\n"
          ]
        }
      ],
      "source": [
        "my_dict = {\"name\": \"黎廷緯\", \"number\": \"B1205010\"}\n",
        "name = my_dict[\"name\"]\n",
        "number = my_dict[\"number\"]\n",
        "print(f\"Name: {name}, Number:{number}\")\n"
      ]
    },
    {
      "cell_type": "code",
      "source": [
        "name = \"黎廷緯\"\n",
        "number = \"B1205010\"\n",
        "print(\"姓名資料型態\",type(name), \"座號資料型態\",type(number))\n",
        "self_information = {\"name\": name, \"number\": number}\n",
        "print(self_information)"
      ],
      "metadata": {
        "colab": {
          "base_uri": "https://localhost:8080/"
        },
        "id": "znP6vME0BNSw",
        "outputId": "52d86a1d-c353-4741-8fec-101d3768e8cd"
      },
      "execution_count": 7,
      "outputs": [
        {
          "output_type": "stream",
          "name": "stdout",
          "text": [
            "姓名資料型態 <class 'str'> 座號資料型態 <class 'str'>\n",
            "{'name': '黎廷緯', 'number': 'B1205010'}\n"
          ]
        }
      ]
    }
  ]
}